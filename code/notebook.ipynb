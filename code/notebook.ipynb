{
 "cells": [
  {
   "attachments": {},
   "cell_type": "markdown",
   "metadata": {},
   "source": [
    "Import balíčků"
   ]
  },
  {
   "cell_type": "code",
   "execution_count": 155,
   "metadata": {},
   "outputs": [],
   "source": [
    "import pandas as pd\n",
    "import numpy as np\n",
    "import matplotlib.pyplot as plt\n",
    "import seaborn as sns\n",
    "from sklearn.model_selection import train_test_split, RepeatedStratifiedKFold, RandomizedSearchCV, learning_curve\n",
    "from sklearn.tree import DecisionTreeClassifier\n",
    "from sklearn.ensemble import RandomForestClassifier\n",
    "from sklearn.linear_model import LogisticRegression\n",
    "from sklearn.metrics import roc_auc_score, confusion_matrix\n",
    "from sklearn.feature_selection import RFECV\n",
    "from itertools import compress\n",
    "from scipy import stats\n",
    "from scipy.stats import loguniform"
   ]
  },
  {
   "attachments": {},
   "cell_type": "markdown",
   "metadata": {},
   "source": [
    "Load dat"
   ]
  },
  {
   "cell_type": "code",
   "execution_count": 122,
   "metadata": {},
   "outputs": [],
   "source": [
    "DF_HEART_RAW = pd.read_csv(\"https://raw.githubusercontent.com/Doll03/4IZ580/PROD/data/heart.csv\", sep=\",\")"
   ]
  },
  {
   "attachments": {},
   "cell_type": "markdown",
   "metadata": {},
   "source": [
    "Zpracování dat"
   ]
  },
  {
   "cell_type": "code",
   "execution_count": 123,
   "metadata": {},
   "outputs": [
    {
     "name": "stdout",
     "output_type": "stream",
     "text": [
      "duplicates detected and dropped\n",
      "     column    dtype  null_count\n",
      "0       age    int64           0\n",
      "0       sex    int64           0\n",
      "0        cp    int64           0\n",
      "0    trtbps    int64           0\n",
      "0      chol    int64           0\n",
      "0       fbs    int64           0\n",
      "0   restecg    int64           0\n",
      "0  thalachh    int64           0\n",
      "0      exng    int64           0\n",
      "0   oldpeak  float64           0\n",
      "0       slp    int64           0\n",
      "0       caa    int64           0\n",
      "0     thall    int64           0\n",
      "0    output    int64           0\n",
      "sex was properly casted to category\n",
      "cp was properly casted to category\n",
      "fbs was properly casted to bool\n",
      "restecg was properly casted to category\n",
      "exng was properly casted to bool\n",
      "slp was properly casted to category\n",
      "caa was properly casted to category\n",
      "thall was properly casted to category\n",
      "output was properly casted to bool\n"
     ]
    },
    {
     "name": "stderr",
     "output_type": "stream",
     "text": [
      "C:\\Users\\user\\AppData\\Local\\Temp\\ipykernel_1884\\3180202172.py:38: FutureWarning: The frame.append method is deprecated and will be removed from pandas in a future version. Use pandas.concat instead.\n",
      "  df_info = df_info.append(pd.merge(column_dtype,column_null_values,on='column',how='outer'))\n",
      "C:\\Users\\user\\AppData\\Local\\Temp\\ipykernel_1884\\3180202172.py:38: FutureWarning: The frame.append method is deprecated and will be removed from pandas in a future version. Use pandas.concat instead.\n",
      "  df_info = df_info.append(pd.merge(column_dtype,column_null_values,on='column',how='outer'))\n",
      "C:\\Users\\user\\AppData\\Local\\Temp\\ipykernel_1884\\3180202172.py:38: FutureWarning: The frame.append method is deprecated and will be removed from pandas in a future version. Use pandas.concat instead.\n",
      "  df_info = df_info.append(pd.merge(column_dtype,column_null_values,on='column',how='outer'))\n",
      "C:\\Users\\user\\AppData\\Local\\Temp\\ipykernel_1884\\3180202172.py:38: FutureWarning: The frame.append method is deprecated and will be removed from pandas in a future version. Use pandas.concat instead.\n",
      "  df_info = df_info.append(pd.merge(column_dtype,column_null_values,on='column',how='outer'))\n",
      "C:\\Users\\user\\AppData\\Local\\Temp\\ipykernel_1884\\3180202172.py:38: FutureWarning: The frame.append method is deprecated and will be removed from pandas in a future version. Use pandas.concat instead.\n",
      "  df_info = df_info.append(pd.merge(column_dtype,column_null_values,on='column',how='outer'))\n",
      "C:\\Users\\user\\AppData\\Local\\Temp\\ipykernel_1884\\3180202172.py:38: FutureWarning: The frame.append method is deprecated and will be removed from pandas in a future version. Use pandas.concat instead.\n",
      "  df_info = df_info.append(pd.merge(column_dtype,column_null_values,on='column',how='outer'))\n",
      "C:\\Users\\user\\AppData\\Local\\Temp\\ipykernel_1884\\3180202172.py:38: FutureWarning: The frame.append method is deprecated and will be removed from pandas in a future version. Use pandas.concat instead.\n",
      "  df_info = df_info.append(pd.merge(column_dtype,column_null_values,on='column',how='outer'))\n",
      "C:\\Users\\user\\AppData\\Local\\Temp\\ipykernel_1884\\3180202172.py:38: FutureWarning: The frame.append method is deprecated and will be removed from pandas in a future version. Use pandas.concat instead.\n",
      "  df_info = df_info.append(pd.merge(column_dtype,column_null_values,on='column',how='outer'))\n",
      "C:\\Users\\user\\AppData\\Local\\Temp\\ipykernel_1884\\3180202172.py:38: FutureWarning: The frame.append method is deprecated and will be removed from pandas in a future version. Use pandas.concat instead.\n",
      "  df_info = df_info.append(pd.merge(column_dtype,column_null_values,on='column',how='outer'))\n",
      "C:\\Users\\user\\AppData\\Local\\Temp\\ipykernel_1884\\3180202172.py:38: FutureWarning: The frame.append method is deprecated and will be removed from pandas in a future version. Use pandas.concat instead.\n",
      "  df_info = df_info.append(pd.merge(column_dtype,column_null_values,on='column',how='outer'))\n",
      "C:\\Users\\user\\AppData\\Local\\Temp\\ipykernel_1884\\3180202172.py:38: FutureWarning: The frame.append method is deprecated and will be removed from pandas in a future version. Use pandas.concat instead.\n",
      "  df_info = df_info.append(pd.merge(column_dtype,column_null_values,on='column',how='outer'))\n",
      "C:\\Users\\user\\AppData\\Local\\Temp\\ipykernel_1884\\3180202172.py:38: FutureWarning: The frame.append method is deprecated and will be removed from pandas in a future version. Use pandas.concat instead.\n",
      "  df_info = df_info.append(pd.merge(column_dtype,column_null_values,on='column',how='outer'))\n",
      "C:\\Users\\user\\AppData\\Local\\Temp\\ipykernel_1884\\3180202172.py:38: FutureWarning: The frame.append method is deprecated and will be removed from pandas in a future version. Use pandas.concat instead.\n",
      "  df_info = df_info.append(pd.merge(column_dtype,column_null_values,on='column',how='outer'))\n",
      "C:\\Users\\user\\AppData\\Local\\Temp\\ipykernel_1884\\3180202172.py:38: FutureWarning: The frame.append method is deprecated and will be removed from pandas in a future version. Use pandas.concat instead.\n",
      "  df_info = df_info.append(pd.merge(column_dtype,column_null_values,on='column',how='outer'))\n"
     ]
    }
   ],
   "source": [
    "# Ošetření chybějících dat\n",
    "# Některé datové typy je potřeba upravit do požadované podoby\n",
    "class preprocess_df:\n",
    "    def __init__(self,df,column = None):\n",
    "        self.column = column\n",
    "        self.df = df\n",
    "    \n",
    "    def get_dtypes(self):\n",
    "        dtype = self.df[f'{self.column}'].dtype\n",
    "        tmp_dict = {'column':[self.column],'dtype':[dtype]}\n",
    "        return tmp_dict\n",
    "\n",
    "    def check_null_values(self):\n",
    "        null_count = self.df[f'{self.column}'].isnull().sum()\n",
    "        tmp_dict = {'column':[self.column],'null_count':[null_count]}\n",
    "        return tmp_dict\n",
    "    \n",
    "    def check_duplication(self):\n",
    "        if self.df.duplicated().sum() > 0:\n",
    "            print('duplicates detected and dropped')\n",
    "            self.df.drop_duplicates(keep='first',inplace=True)\n",
    "            self.df.reset_index(drop=True,inplace=True)\n",
    "        else:\n",
    "            print('no duplicates were detected')\n",
    "    \n",
    "    def change_dtype(self,dtype):\n",
    "        try:\n",
    "            self.df[f'{self.column}'] = self.df[f'{self.column}'].astype(f'{dtype}')\n",
    "            print(f'{self.column} was properly casted to {dtype}')\n",
    "        except:\n",
    "            print(f'{self.column} failed to be casted to {dtype}')\n",
    "        \n",
    "def check_df(df):\n",
    "    df_info = pd.DataFrame()\n",
    "    for column in list(df.columns):\n",
    "        column_dtype = pd.DataFrame.from_dict(preprocess_df(df=df,column=column).get_dtypes())\n",
    "        column_null_values = pd.DataFrame.from_dict(preprocess_df(df=df,column=column).check_null_values())\n",
    "        df_info = df_info.append(pd.merge(column_dtype,column_null_values,on='column',how='outer'))\n",
    "    preprocess_df(df=df).check_duplication()\n",
    "    return df_info\n",
    "\n",
    "DF_INFO = check_df(df=DF_HEART_RAW)\n",
    "print(DF_INFO)\n",
    "DESIRED_DTYPES = pd.DataFrame(data={\n",
    "    'column':['sex','cp','fbs','restecg','exng','slp','caa','thall','output'],\n",
    "    'desired_dtype':['category','category','bool','category','bool','category','category','category','bool']})\n",
    "\n",
    "def clean_df(df):\n",
    "    df = df.copy()\n",
    "    for _,column in DESIRED_DTYPES.iterrows():\n",
    "        preprocess_df(df=df,column=column['column']).change_dtype(dtype=column['desired_dtype'])\n",
    "    return df\n",
    "\n",
    "DF_CLEAN = clean_df(df=DF_HEART_RAW)"
   ]
  },
  {
   "cell_type": "markdown",
   "metadata": {},
   "source": [
    "Kontrola distribuce cílové proměnné"
   ]
  },
  {
   "cell_type": "code",
   "execution_count": 124,
   "metadata": {},
   "outputs": [
    {
     "name": "stdout",
     "output_type": "stream",
     "text": [
      "True     0.543046\n",
      "False    0.456954\n",
      "Name: output, dtype: float64\n"
     ]
    },
    {
     "data": {
      "text/plain": [
       "<seaborn.axisgrid.FacetGrid at 0x16b2a47c6a0>"
      ]
     },
     "execution_count": 124,
     "metadata": {},
     "output_type": "execute_result"
    },
    {
     "data": {
      "image/png": "[encoded data removed]",
      "text/plain": [
       "<Figure size 500x500 with 1 Axes>"
      ]
     },
     "metadata": {},
     "output_type": "display_data"
    }
   ],
   "source": [
    "# histogram \n",
    "print(DF_CLEAN[\"output\"].value_counts(normalize=True))\n",
    "sns.catplot(data = DF_CLEAN, x = \"output\", kind = \"count\", palette = \"ch:.11\")\n",
    "\n",
    "#Sledovaná proměnná \"output\" je poměrně vyrovnaná takže není třeba dataset dále upravovat"
   ]
  },
  {
   "attachments": {},
   "cell_type": "markdown",
   "metadata": {},
   "source": [
    "Data split"
   ]
  },
  {
   "cell_type": "code",
   "execution_count": 137,
   "metadata": {},
   "outputs": [],
   "source": [
    "seed = 333 \n",
    "\n",
    "TARGET = DF_CLEAN[\"output\"]#sledovanaá proměnná\n",
    "FEATURE = DF_CLEAN.drop(\"output\", axis= 1)#vysvětlující proměnné\n",
    "\n",
    "VARIABLE_NAMES = FEATURE.columns.to_list()\n",
    "\n",
    "X = DF_CLEAN[VARIABLE_NAMES]\n",
    "Y = TARGET"
   ]
  },
  {
   "cell_type": "code",
   "execution_count": 138,
   "metadata": {},
   "outputs": [
    {
     "name": "stdout",
     "output_type": "stream",
     "text": [
      "X_test 46\n",
      "y_test 46\n",
      "X_train 210\n",
      "y_train 210\n",
      "X_valid 46\n",
      "y_valid 46\n"
     ]
    }
   ],
   "source": [
    "#rozdělení datasetu na trénovací, validační a testovací dataset\n",
    "_, X_test, __, y_test = train_test_split(X, Y, test_size=0.15, random_state = seed, stratify=Y)\n",
    "X_train, X_valid, y_train, y_valid = train_test_split(_, __, test_size=0.176, random_state = seed, stratify=__)\n",
    "\n",
    "#kontrola\n",
    "print(\"X_test\", X_test.shape[0])\n",
    "print(\"y_test\", y_test.shape[0])\n",
    "print(\"X_train\", X_train.shape[0])\n",
    "print(\"y_train\", y_train.shape[0])\n",
    "print(\"X_valid\", X_valid.shape[0])\n",
    "print(\"y_valid\", y_valid.shape[0])"
   ]
  },
  {
   "cell_type": "code",
   "execution_count": 139,
   "metadata": {},
   "outputs": [],
   "source": [
    "cv = RepeatedStratifiedKFold(n_splits=3, n_repeats=2, random_state=seed) # CV je nastavena na n_splits=3, n_repeats=2 z důvodu snížení výpočetní složitosti"
   ]
  },
  {
   "cell_type": "code",
   "execution_count": 128,
   "metadata": {},
   "outputs": [],
   "source": [
    "# Definujeme si 3 modely které budeme trénovat\n",
    "dt = DecisionTreeClassifier(random_state = seed)\n",
    "rf = RandomForestClassifier(random_state = seed)\n",
    "lr = LogisticRegression(random_state = seed)\n"
   ]
  },
  {
   "attachments": {},
   "cell_type": "markdown",
   "metadata": {},
   "source": [
    "Hyperparameter Space"
   ]
  },
  {
   "cell_type": "code",
   "execution_count": 129,
   "metadata": {},
   "outputs": [],
   "source": [
    "#Každému z modelů definujeme hyperparametrový prostor, ze kterých budeme v příštích krocích vybírat optimální sady hyperparametrů \n",
    "\n",
    "#Hyperparameter space - Logistic regression\n",
    "lr_space = dict()\n",
    "lr_space['solver'] = ['newton-cg', 'lbfgs', \"sag\"]\n",
    "lr_space['penalty'] = ['l2']\n",
    "lr_space['C'] = loguniform(1e-5, 10000)\n",
    "lr_space[\"max_iter\"] = list(range(100,10000,100))\n",
    "\n",
    "#Hyperparameter space - Decision Tree\n",
    "dt_space = dict()\n",
    "dt_space[\"criterion\"] = [\"gini\", \"entropy\", \"log_loss\"]\n",
    "dt_space[\"max_depth\"] = list(range(4,100,2))\n",
    "dt_space[\"max_features\"] = list(range(2,30,2)) + ['sqrt', \"log2\"]\n",
    "#Hyperparameter space - Random Forest\n",
    "rf_space = dict()\n",
    "rf_space[\"criterion\"] = [\"gini\", \"entropy\", \"log_loss\"]\n",
    "rf_space[\"max_depth\"] = list(range(4,100,2))\n",
    "rf_space[\"max_features\"] = list(range(2,30,2)) + ['sqrt', \"log2\"]\n",
    "rf_space[\"n_estimators\"] = list(range(100,1000,50))\n",
    "\n",
    "\n",
    "\n"
   ]
  },
  {
   "attachments": {},
   "cell_type": "markdown",
   "metadata": {},
   "source": [
    "První kolo ladění parametrů jednotlivých modelů"
   ]
  },
  {
   "cell_type": "code",
   "execution_count": 140,
   "metadata": {},
   "outputs": [
    {
     "name": "stdout",
     "output_type": "stream",
     "text": [
      "Random_Forest: {'n_estimators': 800, 'max_features': 2, 'max_depth': 74, 'criterion': 'entropy'}\n",
      "Decision_Tree: {'max_features': 8, 'max_depth': 88, 'criterion': 'entropy'}\n",
      "Logistic_Regression: {'C': 0.7755678240567525, 'max_iter': 7800, 'penalty': 'l2', 'solver': 'sag'}\n"
     ]
    }
   ],
   "source": [
    "#Random_Forest\n",
    "r_search_rf = RandomizedSearchCV(estimator = rf, param_distributions= rf_space, cv=cv, random_state=seed, scoring = \"f1\")\n",
    "r_search_rf.fit(X_train, y_train)\n",
    "rs_rf_param = r_search_rf.best_params_\n",
    "\n",
    "#Decision_Tree\n",
    "r_search_dt = RandomizedSearchCV(estimator = dt, param_distributions= dt_space, cv=cv, random_state=seed, scoring = \"f1\")\n",
    "r_search_dt.fit(X_train, y_train)\n",
    "rs_dt_param = r_search_dt.best_params_\n",
    "\n",
    "#Logistic_Regression\n",
    "r_search_lr = RandomizedSearchCV(estimator = lr, param_distributions= lr_space, cv=cv, random_state=seed, scoring = \"f1\")\n",
    "r_search_lr.fit(X_train, y_train)\n",
    "rs_lr_param = r_search_lr.best_params_\n",
    "\n",
    "#Pomocí funkce RandomizedSearchCV byly vybrány optimální sady parametrů pro každý model\n",
    "\n",
    "print(\"Random_Forest:\", rs_rf_param)\n",
    "print(\"Decision_Tree:\", rs_dt_param)\n",
    "print(\"Logistic_Regression:\", rs_lr_param)\n"
   ]
  },
  {
   "cell_type": "code",
   "execution_count": 141,
   "metadata": {},
   "outputs": [],
   "source": [
    "#Ulozeni nejlepsich sad parameteru \n",
    "b_rf_est = r_search_rf.best_estimator_\n",
    "b_dt_est = r_search_dt.best_estimator_\n",
    "b_lr_est = r_search_lr.best_estimator_"
   ]
  },
  {
   "attachments": {},
   "cell_type": "markdown",
   "metadata": {},
   "source": [
    "Feature Selection"
   ]
  },
  {
   "cell_type": "code",
   "execution_count": 142,
   "metadata": {},
   "outputs": [
    {
     "data": {
      "text/html": [
       "<style>#sk-container-id-3 {color: black;background-color: white;}#sk-container-id-3 pre{padding: 0;}#sk-container-id-3 div.sk-toggleable {background-color: white;}#sk-container-id-3 label.sk-toggleable__label {cursor: pointer;display: block;width: 100%;margin-bottom: 0;padding: 0.3em;box-sizing: border-box;text-align: center;}#sk-container-id-3 label.sk-toggleable__label-arrow:before {content: \"▸\";float: left;margin-right: 0.25em;color: #696969;}#sk-container-id-3 label.sk-toggleable__label-arrow:hover:before {color: black;}#sk-container-id-3 div.sk-estimator:hover label.sk-toggleable__label-arrow:before {color: black;}#sk-container-id-3 div.sk-toggleable__content {max-height: 0;max-width: 0;overflow: hidden;text-align: left;background-color: #f0f8ff;}#sk-container-id-3 div.sk-toggleable__content pre {margin: 0.2em;color: black;border-radius: 0.25em;background-color: #f0f8ff;}#sk-container-id-3 input.sk-toggleable__control:checked~div.sk-toggleable__content {max-height: 200px;max-width: 100%;overflow: auto;}#sk-container-id-3 input.sk-toggleable__control:checked~label.sk-toggleable__label-arrow:before {content: \"▾\";}#sk-container-id-3 div.sk-estimator input.sk-toggleable__control:checked~label.sk-toggleable__label {background-color: #d4ebff;}#sk-container-id-3 div.sk-label input.sk-toggleable__control:checked~label.sk-toggleable__label {background-color: #d4ebff;}#sk-container-id-3 input.sk-hidden--visually {border: 0;clip: rect(1px 1px 1px 1px);clip: rect(1px, 1px, 1px, 1px);height: 1px;margin: -1px;overflow: hidden;padding: 0;position: absolute;width: 1px;}#sk-container-id-3 div.sk-estimator {font-family: monospace;background-color: #f0f8ff;border: 1px dotted black;border-radius: 0.25em;box-sizing: border-box;margin-bottom: 0.5em;}#sk-container-id-3 div.sk-estimator:hover {background-color: #d4ebff;}#sk-container-id-3 div.sk-parallel-item::after {content: \"\";width: 100%;border-bottom: 1px solid gray;flex-grow: 1;}#sk-container-id-3 div.sk-label:hover label.sk-toggleable__label {background-color: #d4ebff;}#sk-container-id-3 div.sk-serial::before {content: \"\";position: absolute;border-left: 1px solid gray;box-sizing: border-box;top: 0;bottom: 0;left: 50%;z-index: 0;}#sk-container-id-3 div.sk-serial {display: flex;flex-direction: column;align-items: center;background-color: white;padding-right: 0.2em;padding-left: 0.2em;position: relative;}#sk-container-id-3 div.sk-item {position: relative;z-index: 1;}#sk-container-id-3 div.sk-parallel {display: flex;align-items: stretch;justify-content: center;background-color: white;position: relative;}#sk-container-id-3 div.sk-item::before, #sk-container-id-3 div.sk-parallel-item::before {content: \"\";position: absolute;border-left: 1px solid gray;box-sizing: border-box;top: 0;bottom: 0;left: 50%;z-index: -1;}#sk-container-id-3 div.sk-parallel-item {display: flex;flex-direction: column;z-index: 1;position: relative;background-color: white;}#sk-container-id-3 div.sk-parallel-item:first-child::after {align-self: flex-end;width: 50%;}#sk-container-id-3 div.sk-parallel-item:last-child::after {align-self: flex-start;width: 50%;}#sk-container-id-3 div.sk-parallel-item:only-child::after {width: 0;}#sk-container-id-3 div.sk-dashed-wrapped {border: 1px dashed gray;margin: 0 0.4em 0.5em 0.4em;box-sizing: border-box;padding-bottom: 0.4em;background-color: white;}#sk-container-id-3 div.sk-label label {font-family: monospace;font-weight: bold;display: inline-block;line-height: 1.2em;}#sk-container-id-3 div.sk-label-container {text-align: center;}#sk-container-id-3 div.sk-container {/* jupyter's `normalize.less` sets `[hidden] { display: none; }` but bootstrap.min.css set `[hidden] { display: none !important; }` so we also need the `!important` here to be able to override the default hidden behavior on the sphinx rendered scikit-learn.org. See: https://github.com/scikit-learn/scikit-learn/issues/21755 */display: inline-block !important;position: relative;}#sk-container-id-3 div.sk-text-repr-fallback {display: none;}</style><div id=\"sk-container-id-3\" class=\"sk-top-container\"><div class=\"sk-text-repr-fallback\"><pre>RFECV(cv=RepeatedStratifiedKFold(n_repeats=2, n_splits=3, random_state=333),\n",
       "      estimator=LogisticRegression(C=0.7755678240567525, max_iter=7800,\n",
       "                                   random_state=333, solver=&#x27;sag&#x27;),\n",
       "      n_jobs=-1, scoring=&#x27;f1&#x27;)</pre><b>In a Jupyter environment, please rerun this cell to show the HTML representation or trust the notebook. <br />On GitHub, the HTML representation is unable to render, please try loading this page with nbviewer.org.</b></div><div class=\"sk-container\" hidden><div class=\"sk-item sk-dashed-wrapped\"><div class=\"sk-label-container\"><div class=\"sk-label sk-toggleable\"><input class=\"sk-toggleable__control sk-hidden--visually\" id=\"sk-estimator-id-5\" type=\"checkbox\" ><label for=\"sk-estimator-id-5\" class=\"sk-toggleable__label sk-toggleable__label-arrow\">RFECV</label><div class=\"sk-toggleable__content\"><pre>RFECV(cv=RepeatedStratifiedKFold(n_repeats=2, n_splits=3, random_state=333),\n",
       "      estimator=LogisticRegression(C=0.7755678240567525, max_iter=7800,\n",
       "                                   random_state=333, solver=&#x27;sag&#x27;),\n",
       "      n_jobs=-1, scoring=&#x27;f1&#x27;)</pre></div></div></div><div class=\"sk-parallel\"><div class=\"sk-parallel-item\"><div class=\"sk-item\"><div class=\"sk-label-container\"><div class=\"sk-label sk-toggleable\"><input class=\"sk-toggleable__control sk-hidden--visually\" id=\"sk-estimator-id-6\" type=\"checkbox\" ><label for=\"sk-estimator-id-6\" class=\"sk-toggleable__label sk-toggleable__label-arrow\">estimator: LogisticRegression</label><div class=\"sk-toggleable__content\"><pre>LogisticRegression(C=0.7755678240567525, max_iter=7800, random_state=333,\n",
       "                   solver=&#x27;sag&#x27;)</pre></div></div></div><div class=\"sk-serial\"><div class=\"sk-item\"><div class=\"sk-estimator sk-toggleable\"><input class=\"sk-toggleable__control sk-hidden--visually\" id=\"sk-estimator-id-7\" type=\"checkbox\" ><label for=\"sk-estimator-id-7\" class=\"sk-toggleable__label sk-toggleable__label-arrow\">LogisticRegression</label><div class=\"sk-toggleable__content\"><pre>LogisticRegression(C=0.7755678240567525, max_iter=7800, random_state=333,\n",
       "                   solver=&#x27;sag&#x27;)</pre></div></div></div></div></div></div></div></div></div></div>"
      ],
      "text/plain": [
       "RFECV(cv=RepeatedStratifiedKFold(n_repeats=2, n_splits=3, random_state=333),\n",
       "      estimator=LogisticRegression(C=0.7755678240567525, max_iter=7800,\n",
       "                                   random_state=333, solver='sag'),\n",
       "      n_jobs=-1, scoring='f1')"
      ]
     },
     "execution_count": 142,
     "metadata": {},
     "output_type": "execute_result"
    }
   ],
   "source": [
    "#Random_Forest\n",
    "rf_feat_sel = RFECV(estimator=b_rf_est, cv=cv, scoring=\"f1\", n_jobs = -1)\n",
    "rf_feat_sel.fit(X_train, y_train)\n",
    "\n",
    "#Decision_Tree\n",
    "dt_feat_sel = RFECV(estimator=b_dt_est, cv=cv, scoring=\"f1\", n_jobs = -1)\n",
    "dt_feat_sel.fit(X_train, y_train)\n",
    "\n",
    "#Logistic_Regression\n",
    "lr_feat_sel = RFECV(estimator=b_lr_est, cv=cv, scoring=\"f1\", n_jobs = -1)\n",
    "lr_feat_sel.fit(X_train, y_train)\n",
    "\n",
    "# Feature selection je výberproměných, které se použijí ke konstrukci predikčního modelu. \n",
    "# Děláme ji abychom snížili náročnost na modelování a zlepšili výkonnost modelu.\n",
    "# Používáme funkci RFECV (Recursive feature elimination with cross-validation). \n",
    "# Tato metoda postupně eliminuje ty proměnné, které mají nízký příspěvek k predikci."
   ]
  },
  {
   "cell_type": "code",
   "execution_count": 143,
   "metadata": {},
   "outputs": [],
   "source": [
    "#Ulozeni vybranych features do listu\n",
    "rf_selected = list(compress(X_train.columns.tolist(), rf_feat_sel.support_.tolist()))\n",
    "dt_selected = list(compress(X_train.columns.tolist(), dt_feat_sel.support_.tolist()))\n",
    "lr_selected = list(compress(X_train.columns.tolist(), lr_feat_sel.support_.tolist()))"
   ]
  },
  {
   "attachments": {},
   "cell_type": "markdown",
   "metadata": {},
   "source": [
    "Druhé kolo ladění parametrů, tentokrát pouze na předem vybraných features"
   ]
  },
  {
   "cell_type": "code",
   "execution_count": 147,
   "metadata": {},
   "outputs": [
    {
     "name": "stdout",
     "output_type": "stream",
     "text": [
      "Fitting 6 folds for each of 10 candidates, totalling 60 fits\n",
      "Fitting 6 folds for each of 10 candidates, totalling 60 fits\n",
      "Fitting 6 folds for each of 10 candidates, totalling 60 fits\n"
     ]
    }
   ],
   "source": [
    "\n",
    "#Random_Forest\n",
    "r_search_rf_final = RandomizedSearchCV(estimator = rf, param_distributions= rf_space, cv= cv, random_state=seed, scoring = \"f1\", n_jobs = -1,verbose = 1)\n",
    "r_search_rf_final.fit(X_train[rf_selected], y_train)\n",
    "b_rf_est_final = r_search_rf_final.best_estimator_\n",
    "\n",
    "rf_valid_preds = b_rf_est_final.predict_proba(X_valid[rf_selected])[:,1]\n",
    "rf_valid_auc = roc_auc_score(y_valid, rf_valid_preds)\n",
    "\n",
    "#Decision_Tree\n",
    "r_search_dt_final = RandomizedSearchCV(estimator = dt, param_distributions= dt_space , cv= cv, random_state=seed, scoring = \"f1\", n_jobs = -1,verbose = 1)\n",
    "r_search_dt_final.fit(X_train[dt_selected], y_train)\n",
    "b_dt_est_final = r_search_dt_final.best_estimator_\n",
    "\n",
    "dt_valid_preds = b_dt_est_final.predict_proba(X_valid[dt_selected])[:,1]\n",
    "dt_valid_auc = roc_auc_score(y_valid, dt_valid_preds)\n",
    "\n",
    "#Logistic_Regression\n",
    "r_search_lr_final = RandomizedSearchCV(estimator = lr, param_distributions= lr_space , cv= cv, random_state=seed, scoring = \"f1\", n_jobs = -1,verbose = 1)\n",
    "r_search_lr_final.fit(X_train[lr_selected], y_train)\n",
    "b_lr_est_final = r_search_lr_final.best_estimator_\n",
    "\n",
    "lr_valid_preds = b_lr_est_final.predict_proba(X_valid[lr_selected])[:,1]\n",
    "lr_valid_auc = roc_auc_score(y_valid, lr_valid_preds)"
   ]
  },
  {
   "cell_type": "code",
   "execution_count": 148,
   "metadata": {},
   "outputs": [
    {
     "name": "stdout",
     "output_type": "stream",
     "text": [
      "Random_Forest 0.9561904761904763\n",
      "Decision_Tree 0.8761904761904762\n",
      "Logistic_Regression 0.9238095238095239\n"
     ]
    }
   ],
   "source": [
    "#Porovnáme AUC vytuněných modelů:\n",
    "print(\"Random_Forest\", rf_valid_auc)\n",
    "print(\"Decision_Tree\", dt_valid_auc)\n",
    "print(\"Logistic_Regression\", lr_valid_auc)"
   ]
  },
  {
   "cell_type": "code",
   "execution_count": 149,
   "metadata": {},
   "outputs": [],
   "source": [
    "#Nejlépe vyšel RandomForest\n",
    "final_model = b_rf_est_final\n",
    "final_features = rf_selected"
   ]
  },
  {
   "attachments": {},
   "cell_type": "markdown",
   "metadata": {},
   "source": [
    "Nyní byl na základě výsledku AUC na validačním setu vybrán model s nejlepším výsledkem.\n",
    "Následuje evaluace na testovacím setu."
   ]
  },
  {
   "cell_type": "code",
   "execution_count": 159,
   "metadata": {},
   "outputs": [],
   "source": [
    "#data preparation \n",
    "y_train = pd.DataFrame(y_train)\n",
    "y_valid = pd.DataFrame(y_valid)\n",
    "y_train_valid = pd.concat([y_train,y_valid],axis=0)\n",
    "X_train_valid = pd.concat((X_train, X_valid))\n",
    "X_train_valid_filtered = pd.concat((X_train, X_valid))[final_features] # z datasetu byly odfiltrovany promenne ktere byly predtim nebyly vybrany ve Feature Selection\n",
    "X_test_filtered = X_test[final_features]"
   ]
  },
  {
   "attachments": {},
   "cell_type": "markdown",
   "metadata": {},
   "source": [
    "Fit finálního modelu na spojeném trénovacím a validačním datasetu"
   ]
  },
  {
   "cell_type": "code",
   "execution_count": 160,
   "metadata": {},
   "outputs": [
    {
     "name": "stderr",
     "output_type": "stream",
     "text": [
      "C:\\Users\\user\\AppData\\Local\\Temp\\ipykernel_1884\\1965904378.py:1: DataConversionWarning: A column-vector y was passed when a 1d array was expected. Please change the shape of y to (n_samples,), for example using ravel().\n",
      "  final_model.fit(X_train_valid_filtered, y_train_valid)\n"
     ]
    },
    {
     "data": {
      "text/html": [
       "<style>#sk-container-id-5 {color: black;background-color: white;}#sk-container-id-5 pre{padding: 0;}#sk-container-id-5 div.sk-toggleable {background-color: white;}#sk-container-id-5 label.sk-toggleable__label {cursor: pointer;display: block;width: 100%;margin-bottom: 0;padding: 0.3em;box-sizing: border-box;text-align: center;}#sk-container-id-5 label.sk-toggleable__label-arrow:before {content: \"▸\";float: left;margin-right: 0.25em;color: #696969;}#sk-container-id-5 label.sk-toggleable__label-arrow:hover:before {color: black;}#sk-container-id-5 div.sk-estimator:hover label.sk-toggleable__label-arrow:before {color: black;}#sk-container-id-5 div.sk-toggleable__content {max-height: 0;max-width: 0;overflow: hidden;text-align: left;background-color: #f0f8ff;}#sk-container-id-5 div.sk-toggleable__content pre {margin: 0.2em;color: black;border-radius: 0.25em;background-color: #f0f8ff;}#sk-container-id-5 input.sk-toggleable__control:checked~div.sk-toggleable__content {max-height: 200px;max-width: 100%;overflow: auto;}#sk-container-id-5 input.sk-toggleable__control:checked~label.sk-toggleable__label-arrow:before {content: \"▾\";}#sk-container-id-5 div.sk-estimator input.sk-toggleable__control:checked~label.sk-toggleable__label {background-color: #d4ebff;}#sk-container-id-5 div.sk-label input.sk-toggleable__control:checked~label.sk-toggleable__label {background-color: #d4ebff;}#sk-container-id-5 input.sk-hidden--visually {border: 0;clip: rect(1px 1px 1px 1px);clip: rect(1px, 1px, 1px, 1px);height: 1px;margin: -1px;overflow: hidden;padding: 0;position: absolute;width: 1px;}#sk-container-id-5 div.sk-estimator {font-family: monospace;background-color: #f0f8ff;border: 1px dotted black;border-radius: 0.25em;box-sizing: border-box;margin-bottom: 0.5em;}#sk-container-id-5 div.sk-estimator:hover {background-color: #d4ebff;}#sk-container-id-5 div.sk-parallel-item::after {content: \"\";width: 100%;border-bottom: 1px solid gray;flex-grow: 1;}#sk-container-id-5 div.sk-label:hover label.sk-toggleable__label {background-color: #d4ebff;}#sk-container-id-5 div.sk-serial::before {content: \"\";position: absolute;border-left: 1px solid gray;box-sizing: border-box;top: 0;bottom: 0;left: 50%;z-index: 0;}#sk-container-id-5 div.sk-serial {display: flex;flex-direction: column;align-items: center;background-color: white;padding-right: 0.2em;padding-left: 0.2em;position: relative;}#sk-container-id-5 div.sk-item {position: relative;z-index: 1;}#sk-container-id-5 div.sk-parallel {display: flex;align-items: stretch;justify-content: center;background-color: white;position: relative;}#sk-container-id-5 div.sk-item::before, #sk-container-id-5 div.sk-parallel-item::before {content: \"\";position: absolute;border-left: 1px solid gray;box-sizing: border-box;top: 0;bottom: 0;left: 50%;z-index: -1;}#sk-container-id-5 div.sk-parallel-item {display: flex;flex-direction: column;z-index: 1;position: relative;background-color: white;}#sk-container-id-5 div.sk-parallel-item:first-child::after {align-self: flex-end;width: 50%;}#sk-container-id-5 div.sk-parallel-item:last-child::after {align-self: flex-start;width: 50%;}#sk-container-id-5 div.sk-parallel-item:only-child::after {width: 0;}#sk-container-id-5 div.sk-dashed-wrapped {border: 1px dashed gray;margin: 0 0.4em 0.5em 0.4em;box-sizing: border-box;padding-bottom: 0.4em;background-color: white;}#sk-container-id-5 div.sk-label label {font-family: monospace;font-weight: bold;display: inline-block;line-height: 1.2em;}#sk-container-id-5 div.sk-label-container {text-align: center;}#sk-container-id-5 div.sk-container {/* jupyter's `normalize.less` sets `[hidden] { display: none; }` but bootstrap.min.css set `[hidden] { display: none !important; }` so we also need the `!important` here to be able to override the default hidden behavior on the sphinx rendered scikit-learn.org. See: https://github.com/scikit-learn/scikit-learn/issues/21755 */display: inline-block !important;position: relative;}#sk-container-id-5 div.sk-text-repr-fallback {display: none;}</style><div id=\"sk-container-id-5\" class=\"sk-top-container\"><div class=\"sk-text-repr-fallback\"><pre>RandomForestClassifier(criterion=&#x27;entropy&#x27;, max_depth=74, max_features=2,\n",
       "                       n_estimators=800, random_state=333)</pre><b>In a Jupyter environment, please rerun this cell to show the HTML representation or trust the notebook. <br />On GitHub, the HTML representation is unable to render, please try loading this page with nbviewer.org.</b></div><div class=\"sk-container\" hidden><div class=\"sk-item\"><div class=\"sk-estimator sk-toggleable\"><input class=\"sk-toggleable__control sk-hidden--visually\" id=\"sk-estimator-id-9\" type=\"checkbox\" checked><label for=\"sk-estimator-id-9\" class=\"sk-toggleable__label sk-toggleable__label-arrow\">RandomForestClassifier</label><div class=\"sk-toggleable__content\"><pre>RandomForestClassifier(criterion=&#x27;entropy&#x27;, max_depth=74, max_features=2,\n",
       "                       n_estimators=800, random_state=333)</pre></div></div></div></div></div>"
      ],
      "text/plain": [
       "RandomForestClassifier(criterion='entropy', max_depth=74, max_features=2,\n",
       "                       n_estimators=800, random_state=333)"
      ]
     },
     "execution_count": 160,
     "metadata": {},
     "output_type": "execute_result"
    }
   ],
   "source": [
    "final_model.fit(X_train_valid_filtered, y_train_valid)"
   ]
  },
  {
   "attachments": {},
   "cell_type": "markdown",
   "metadata": {},
   "source": [
    "Cofusion Matrix"
   ]
  },
  {
   "cell_type": "code",
   "execution_count": 166,
   "metadata": {},
   "outputs": [
    {
     "data": {
      "text/plain": [
       "array([[15,  6],\n",
       "       [ 8, 17]], dtype=int64)"
      ]
     },
     "execution_count": 166,
     "metadata": {},
     "output_type": "execute_result"
    }
   ],
   "source": [
    "# matice záměny s výchozí mezní hodnotou (pokud je pravděpodobnost menší než 0,5, je klasifikována jako \"False\").\n",
    "# Výsledné evaluace modelu na testovacím setu\n",
    "y_preds2 = pd.Series(final_model.predict(X_test_filtered))\n",
    "confusion_matrix(y_test, y_preds2)"
   ]
  }
 ],
 "metadata": {
  "kernelspec": {
   "display_name": "IZ580",
   "language": "python",
   "name": "python3"
  },
  "language_info": {
   "codemirror_mode": {
    "name": "ipython",
    "version": 3
   },
   "file_extension": ".py",
   "mimetype": "text/x-python",
   "name": "python",
   "nbconvert_exporter": "python",
   "pygments_lexer": "ipython3",
   "version": "3.9.13"
  },
  "orig_nbformat": 4,
  "vscode": {
   "interpreter": {
    "hash": "472216fcd5073b616b0a9a87999b7ead4ee1f3e5b066f9224b18e2caf550a987"
   }
  }
 },
 "nbformat": 4,
 "nbformat_minor": 2
}
